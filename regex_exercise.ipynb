{
 "cells": [
  {
   "cell_type": "code",
   "execution_count": 1,
   "metadata": {},
   "outputs": [],
   "source": [
    "import re\n",
    "import pandas as pd"
   ]
  },
  {
   "cell_type": "code",
   "execution_count": 2,
   "metadata": {},
   "outputs": [],
   "source": [
    "# Exercise 1\n",
    "\n",
    "def is_vowel(string):\n",
    "    \"\"\" return if the input is a single vowel character\"\"\"\n",
    "    \n",
    "    regex = r'^[aeiouAEIOU]$'\n",
    "    return bool(re.search(regex, string))\n",
    "\n",
    "assert is_vowel(\"A\") == True\n",
    "assert is_vowel(\"e\") == True\n",
    "assert is_vowel(\"b\") == False\n",
    "assert is_vowel(\"ee\") == False\n",
    "assert is_vowel(\"aie\") == False"
   ]
  },
  {
   "cell_type": "code",
   "execution_count": 50,
   "metadata": {},
   "outputs": [],
   "source": [
    "def is_vowel(string):\n",
    "    string = string.lower()\n",
    "    return string in [\"a\", \"e\", \"i\", \"o\", \"u\"]\n",
    "\n",
    "assert is_vowel(\"A\") == True\n",
    "assert is_vowel(\"e\") == True\n",
    "assert is_vowel(\"b\") == False\n",
    "assert is_vowel(\"ee\") == False\n",
    "assert is_vowel(\"aie\") == False"
   ]
  },
  {
   "cell_type": "code",
   "execution_count": 31,
   "metadata": {},
   "outputs": [],
   "source": [
    "# Exercise 2\n",
    "# A valid username starts with a lowercase letter, \n",
    "# and only consists of lowercase letters, numbers, or the _ character. \n",
    "# It should also be no longer than 32 characters. \n",
    "# The function should return True or False\n",
    "def is_valid_username(string):\n",
    "    return bool(re.search(r'^[a-z][a-z0-9_]{,31}$', string))\n",
    "\n",
    "assert is_valid_username(\"jane_janeway76\") == True\n",
    "assert is_valid_username(\"bob_bobberson\") == True\n",
    "assert is_valid_username(\"Robert') DROP TABLE Students;--\") == False"
   ]
  },
  {
   "cell_type": "code",
   "execution_count": 46,
   "metadata": {},
   "outputs": [],
   "source": [
    "# Exercise 2 solved by breaking the logic into little functions and using them together\n",
    "# My preference is to build tiny functions that do one thing and then string them together\n",
    "def starts_with_lowercase(string):\n",
    "    return bool(re.search(r'^[a-z]', string))\n",
    "\n",
    "def is_only_lowercase_alphanumeric_or_underscore(string):\n",
    "    return bool(re.search(r'[a-z0-9_]$', string))\n",
    "    \n",
    "def is_valid_username2(string):\n",
    "    return starts_with_lowercase(string) and is_only_lowercase_alphanumeric_or_underscore(string) and len(string) <= 32\n",
    "\n",
    "assert is_valid_username2(\"jane_janeway76\") == True\n",
    "assert is_valid_username2(\"bob_bobberson\") == True\n",
    "assert is_valid_username2(\"Robert') DROP TABLE Students;--\") == False"
   ]
  },
  {
   "cell_type": "code",
   "execution_count": 40,
   "metadata": {},
   "outputs": [],
   "source": [
    "# Exercise 3\n",
    "# Write a regular expression to capture phone numbers. \n",
    "# It should match all of the following:\n",
    "# (210) 867 5309\n",
    "# +1 210.867.5309\n",
    "# 867-5309\n",
    "# 210-867-5309\n",
    "\n"
   ]
  },
  {
   "cell_type": "code",
   "execution_count": 47,
   "metadata": {},
   "outputs": [],
   "source": [
    "# Exercise 4\n",
    "# Convert the dates below to the standardized year-month-day format.\n",
    "# 02/04/19\n",
    "# 02/05/19\n",
    "# 02/06/19\n",
    "# 02/07/19\n",
    "# 02/08/19\n",
    "# 02/09/19\n",
    "# 02/10/19\n"
   ]
  },
  {
   "cell_type": "code",
   "execution_count": 72,
   "metadata": {},
   "outputs": [
    {
     "data": {
      "text/plain": [
       "['GET /api/v1/sales?page=86 [16/Apr/2019:193452+0000] HTTP/1.1 {200} 510348 \"python-requests/2.21.0\" 97.105.19.58',\n",
       " 'POST /users_accounts/file-upload [16/Apr/2019:193452+0000] HTTP/1.1 {201} 42 \"User-Agent: Mozilla/5.0 (X11; Fedora; Fedora; Linux x86_64) AppleWebKit/537.36 (KHTML, like Gecko) Chrome/73.0.3683.86 Safari/537.36\" 97.105.19.58',\n",
       " 'GET /api/v1/items?page=3 [16/Apr/2019:193453+0000] HTTP/1.1 {429} 3561 \"python-requests/2.21.0\" 97.105.19.58']"
      ]
     },
     "execution_count": 72,
     "metadata": {},
     "output_type": "execute_result"
    }
   ],
   "source": [
    "# Exercise 5\n",
    "\n",
    "# GET /api/v1/sales?page=86 [16/Apr/2019:193452+0000] HTTP/1.1 {200} 510348 \"python-requests/2.21.0\" 97.105.19.58\n",
    "# POST /users_accounts/file-upload [16/Apr/2019:193452+0000] HTTP/1.1 {201} 42 \"User-Agent: Mozilla/5.0 (X11; Fedora; Fedora; Linux x86_64) AppleWebKit/537.36 (KHTML, like Gecko) Chrome/73.0.3683.86 Safari/537.36\" 97.105.19.58\n",
    "# GET /api/v1/items?page=3 [16/Apr/2019:193453+0000] HTTP/1.1 {429} 3561 \"python-requests/2.21.0\" 97.105.19.58\n",
    "\n",
    "string = \"\"\"\n",
    "GET /api/v1/sales?page=86 [16/Apr/2019:193452+0000] HTTP/1.1 {200} 510348 \"python-requests/2.21.0\" 97.105.19.58\n",
    "POST /users_accounts/file-upload [16/Apr/2019:193452+0000] HTTP/1.1 {201} 42 \"User-Agent: Mozilla/5.0 (X11; Fedora; Fedora; Linux x86_64) AppleWebKit/537.36 (KHTML, like Gecko) Chrome/73.0.3683.86 Safari/537.36\" 97.105.19.58\n",
    "GET /api/v1/items?page=3 [16/Apr/2019:193453+0000] HTTP/1.1 {429} 3561 \"python-requests/2.21.0\" 97.105.19.58\n",
    "\"\"\"\n",
    "\n",
    "string.split(\"\\n\")[1:4]"
   ]
  },
  {
   "cell_type": "code",
   "execution_count": null,
   "metadata": {},
   "outputs": [],
   "source": [
    "# Exercise 6\n",
    "\n",
    "# Find a list of words on your mac at /usr/share/dict/words. \n",
    "# Use this file to answer the following questions:\n",
    "# How many words have at least 3 vowels?\n",
    "# How many words have at least 3 vowels in a row?\n",
    "# How many words have at least 4 consonants in a row?\n",
    "# How many words start and end with the same letter?\n",
    "# How many words start and end with a vowel?\n",
    "# How many words contain the same letter 3 times in a row?\n",
    "# What other interesting patterns in words can you find?"
   ]
  }
 ],
 "metadata": {
  "kernelspec": {
   "display_name": "Python 3",
   "language": "python",
   "name": "python3"
  },
  "language_info": {
   "codemirror_mode": {
    "name": "ipython",
    "version": 3
   },
   "file_extension": ".py",
   "mimetype": "text/x-python",
   "name": "python",
   "nbconvert_exporter": "python",
   "pygments_lexer": "ipython3",
   "version": "3.7.3"
  }
 },
 "nbformat": 4,
 "nbformat_minor": 4
}
