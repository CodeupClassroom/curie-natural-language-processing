{
 "cells": [
  {
   "cell_type": "markdown",
   "metadata": {},
   "source": [
    "# Web Scraping\n",
    "- Ethics\n",
    "- Sending requests\n",
    "- Parsing HTML with Beautiful Soup\n",
    "- Crash course in HTML/CSS\n",
    "- Using the browser inspector to get a CSS Selector for items"
   ]
  },
  {
   "cell_type": "code",
   "execution_count": 1,
   "metadata": {},
   "outputs": [],
   "source": [
    "from requests import get\n",
    "from bs4 import BeautifulSoup"
   ]
  },
  {
   "cell_type": "code",
   "execution_count": 2,
   "metadata": {},
   "outputs": [],
   "source": [
    "url = 'https://codeup.com/codeups-data-science-career-accelerator-is-here/'\n",
    "headers = {'User-Agent': 'Codeup Data Science'} # Some websites don't accept the python-requests default user-agent\n",
    "response = get(url, headers=headers)"
   ]
  },
  {
   "cell_type": "code",
   "execution_count": 3,
   "metadata": {},
   "outputs": [
    {
     "data": {
      "text/plain": [
       "'<!DOCTYPE html><html lang=\"en-US\"><head ><meta charset=\"UTF-8\" /><meta name=\"viewport\" content=\"widt'"
      ]
     },
     "execution_count": 3,
     "metadata": {},
     "output_type": "execute_result"
    }
   ],
   "source": [
    "# response.text is a single string of \n",
    "# going to that url in your browser then clicking \"View Source\"\n",
    "response.text[:100]"
   ]
  },
  {
   "cell_type": "code",
   "execution_count": 4,
   "metadata": {},
   "outputs": [
    {
     "data": {
      "text/plain": [
       "b'<!DOCTYPE html><html lang=\"en-US\"><head ><meta charset=\"UTF-8\" /><meta name=\"viewport\" content=\"widt'"
      ]
     },
     "execution_count": 4,
     "metadata": {},
     "output_type": "execute_result"
    }
   ],
   "source": [
    "response.content[:100]"
   ]
  },
  {
   "cell_type": "code",
   "execution_count": 5,
   "metadata": {},
   "outputs": [],
   "source": [
    "# Making the string of HTML into soup is critical\n",
    "soup = BeautifulSoup(response.content, 'html.parser')"
   ]
  },
  {
   "cell_type": "markdown",
   "metadata": {},
   "source": [
    "# The type is a BeautifulSoup object\n",
    "# BeautifulSoup object provides methods and properties we can use\n",
    "type(soup)"
   ]
  },
  {
   "cell_type": "code",
   "execution_count": 6,
   "metadata": {},
   "outputs": [
    {
     "data": {
      "text/plain": [
       "'Codeup’s Data Science Career Accelerator is Here! - Codeup'"
      ]
     },
     "execution_count": 6,
     "metadata": {},
     "output_type": "execute_result"
    }
   ],
   "source": [
    "# soup.element.text\n",
    "soup.title.text"
   ]
  },
  {
   "cell_type": "code",
   "execution_count": 7,
   "metadata": {},
   "outputs": [
    {
     "name": "stdout",
     "output_type": "stream",
     "text": [
      "<!DOCTYPE html>\n",
      "<html lang=\"en-US\">\n",
      " <head>\n",
      "  <meta charset=\"utf-8\"/>\n",
      "  <meta content=\"width=device-\n"
     ]
    }
   ],
   "source": [
    "print(soup.prettify()[0:100])"
   ]
  },
  {
   "cell_type": "markdown",
   "metadata": {},
   "source": [
    "`<h1 class=\"jupiterx-post-title\" itemprop=\"headline\">Codeup’s Data Science Career Accelerator is Here!</h1>`\n",
    "- h1 is the element's name. short for heading 1, h2, h3, h4, h5, h6 ...\n",
    "- class is something called an attribute\n",
    "- Attributes are used to describe elements"
   ]
  },
  {
   "cell_type": "code",
   "execution_count": 8,
   "metadata": {},
   "outputs": [
    {
     "data": {
      "text/plain": [
       "<h1 class=\"jupiterx-post-title\" itemprop=\"headline\">Codeup’s Data Science Career Accelerator is Here!</h1>"
      ]
     },
     "execution_count": 8,
     "metadata": {},
     "output_type": "execute_result"
    }
   ],
   "source": [
    "# Soup.element_name gives us the element\n",
    "soup.h1"
   ]
  },
  {
   "cell_type": "code",
   "execution_count": 9,
   "metadata": {},
   "outputs": [
    {
     "data": {
      "text/plain": [
       "'Codeup’s Data Science Career Accelerator is Here!'"
      ]
     },
     "execution_count": 9,
     "metadata": {},
     "output_type": "execute_result"
    }
   ],
   "source": [
    "# Soup.element_name.text gets the text\n",
    "soup.h1.text"
   ]
  },
  {
   "cell_type": "code",
   "execution_count": 10,
   "metadata": {},
   "outputs": [
    {
     "data": {
      "text/plain": [
       "<a class=\"jupiterx-a11y jupiterx-a11y-skip-navigation-link\" href=\"#jupiterx-primary\">Skip to content</a>"
      ]
     },
     "execution_count": 10,
     "metadata": {},
     "output_type": "execute_result"
    }
   ],
   "source": [
    "# soup.element gives back the first matching element\n",
    "soup.a"
   ]
  },
  {
   "cell_type": "code",
   "execution_count": 11,
   "metadata": {},
   "outputs": [
    {
     "data": {
      "text/plain": [
       "[<a class=\"jupiterx-a11y jupiterx-a11y-skip-navigation-link\" href=\"#jupiterx-primary\">Skip to content</a>,\n",
       " <a class=\"raven-site-logo-link\" href=\"https://codeup.com\"> <img alt=\"Codeup\" class=\"raven-site-logo-desktop raven-site-logo-tablet raven-site-logo-mobile lazyload\" data-no-lazy=\"1\" data-src=\"https://750092.smushcdn.com/1449913/wp-content/uploads/2018/08/logo.png?lossy=1&amp;strip=1&amp;webp=1\" data-srcset=\"https://750092.smushcdn.com/1449913/wp-content/uploads/2018/08/logo.png?lossy=1&amp;strip=1&amp;webp=1 226w, \" sizes=\"(max-width: 226px) 100vw, 226px\" src=\"data:image/gif;base64,R0lGODlhAQABAAAAACH5BAEKAAEALAAAAAABAAEAAAICTAEAOw==\"/><noscript><img alt=\"Codeup\" class=\"raven-site-logo-desktop raven-site-logo-tablet raven-site-logo-mobile\" data-no-lazy=\"1\" sizes=\"(max-width: 226px) 100vw, 226px\" src=\"https://750092.smushcdn.com/1449913/wp-content/uploads/2018/08/logo.png?lossy=1&amp;strip=1&amp;webp=1\" srcset=\"https://750092.smushcdn.com/1449913/wp-content/uploads/2018/08/logo.png?lossy=1&amp;strip=1&amp;webp=1 226w, \"/></noscript> </a>,\n",
       " <a class=\"raven-menu-item raven-link-item\" href=\"https://codeup.com/student-page/\">Programs</a>,\n",
       " <a class=\"raven-submenu-item raven-link-item\" href=\"https://codeup.com/wd-admissions/\">Full Stack Web Development</a>]"
      ]
     },
     "execution_count": 11,
     "metadata": {},
     "output_type": "execute_result"
    }
   ],
   "source": [
    "soup.find_all(\"a\")[:4]"
   ]
  },
  {
   "cell_type": "code",
   "execution_count": 12,
   "metadata": {},
   "outputs": [],
   "source": [
    "# Brings back the footer element.\n",
    "# soup.footer"
   ]
  },
  {
   "cell_type": "code",
   "execution_count": 13,
   "metadata": {},
   "outputs": [
    {
     "data": {
      "text/plain": [
       "[<time datetime=\"2018-09-30T05:26:22+00:00\" itemprop=\"datePublished\">September 30, 2018</time>]"
      ]
     },
     "execution_count": 13,
     "metadata": {},
     "output_type": "execute_result"
    }
   ],
   "source": [
    "# Our new friend is .select\n",
    "# .select allows us to pass in a CSS selector as a string\n",
    "\n",
    "datetime = soup.select(\"header > ul > li.jupiterx-post-meta-date.list-inline-item > time\")\n",
    "datetime"
   ]
  },
  {
   "cell_type": "code",
   "execution_count": 14,
   "metadata": {},
   "outputs": [],
   "source": [
    "link = soup.select(\"div > div.jupiterx-post-content.clearfix > p:nth-child(1) > strong > a\")\n",
    "link = link[0]"
   ]
  },
  {
   "cell_type": "code",
   "execution_count": 15,
   "metadata": {},
   "outputs": [
    {
     "data": {
      "text/plain": [
       "'Glassdoor’s #1 Best Job in America'"
      ]
     },
     "execution_count": 15,
     "metadata": {},
     "output_type": "execute_result"
    }
   ],
   "source": [
    "link.text"
   ]
  },
  {
   "cell_type": "code",
   "execution_count": 16,
   "metadata": {},
   "outputs": [
    {
     "data": {
      "text/plain": [
       "'https://www.glassdoor.com/List/Best-Jobs-in-America-LST_KQ0,20.htm'"
      ]
     },
     "execution_count": 16,
     "metadata": {},
     "output_type": "execute_result"
    }
   ],
   "source": [
    "# Treat it like a dictionary to get the link URL\n",
    "link[\"href\"]"
   ]
  },
  {
   "cell_type": "code",
   "execution_count": 17,
   "metadata": {},
   "outputs": [],
   "source": [
    "page = \"\"\"\n",
    "<html>\n",
    "    <head>\n",
    "        <title>This is the title of the page</title>\n",
    "    </head>\n",
    "    <body>\n",
    "        <heading>\n",
    "            <h1>Welcome to the blog!</h1>\n",
    "            <p>Blog is short for \"back-log\"</p>\n",
    "        </heading>\n",
    "        <main>\n",
    "            <h2>Read your way to insight!</h2>\n",
    "            <section id=\"posts\">\n",
    "                <article class=\"blog_post\">\n",
    "                    <h3>Hello World</h3>\n",
    "                    <p>This is the first post!</p>\n",
    "                </article>\n",
    "                <article class=\"blog_post\">\n",
    "                    <h3>HTML Is Awesome</h3>\n",
    "                    <p>It's the language and structure for the web!</p>\n",
    "                </article>\n",
    "                <article class=\"blog_post\">\n",
    "                    <h3>CSS Is Totally Rad</h3>\n",
    "                    <p>CSS Selectors are super powerful</p>\n",
    "                </article>\n",
    "            </section>\n",
    "        </main>\n",
    "        <footer>\n",
    "            <p>All rights reserved.</p>\n",
    "        </footer>\n",
    "    </body>\n",
    "</html>\n",
    "\"\"\""
   ]
  },
  {
   "cell_type": "code",
   "execution_count": 18,
   "metadata": {},
   "outputs": [],
   "source": [
    "soup2 = BeautifulSoup(page, 'html.parser')"
   ]
  },
  {
   "cell_type": "code",
   "execution_count": 19,
   "metadata": {},
   "outputs": [
    {
     "data": {
      "text/plain": [
       "<title>This is the title of the page</title>"
      ]
     },
     "execution_count": 19,
     "metadata": {},
     "output_type": "execute_result"
    }
   ],
   "source": [
    "soup2.title"
   ]
  },
  {
   "cell_type": "code",
   "execution_count": 20,
   "metadata": {},
   "outputs": [
    {
     "data": {
      "text/plain": [
       "[<article class=\"blog_post\">\n",
       " <h3>Hello World</h3>\n",
       " <p>This is the first post!</p>\n",
       " </article>,\n",
       " <article class=\"blog_post\">\n",
       " <h3>HTML Is Awesome</h3>\n",
       " <p>It's the language and structure for the web!</p>\n",
       " </article>,\n",
       " <article class=\"blog_post\">\n",
       " <h3>CSS Is Totally Rad</h3>\n",
       " <p>CSS Selectors are super powerful</p>\n",
       " </article>]"
      ]
     },
     "execution_count": 20,
     "metadata": {},
     "output_type": "execute_result"
    }
   ],
   "source": [
    "# class selector is .\n",
    "# . means class in CSS\n",
    "soup2.select(\".blog_post\")"
   ]
  },
  {
   "cell_type": "code",
   "execution_count": 21,
   "metadata": {},
   "outputs": [
    {
     "data": {
      "text/plain": [
       "[<section id=\"posts\">\n",
       " <article class=\"blog_post\">\n",
       " <h3>Hello World</h3>\n",
       " <p>This is the first post!</p>\n",
       " </article>\n",
       " <article class=\"blog_post\">\n",
       " <h3>HTML Is Awesome</h3>\n",
       " <p>It's the language and structure for the web!</p>\n",
       " </article>\n",
       " <article class=\"blog_post\">\n",
       " <h3>CSS Is Totally Rad</h3>\n",
       " <p>CSS Selectors are super powerful</p>\n",
       " </article>\n",
       " </section>]"
      ]
     },
     "execution_count": 21,
     "metadata": {},
     "output_type": "execute_result"
    }
   ],
   "source": [
    "# id selector is #\n",
    "soup2.select(\"#posts\")"
   ]
  },
  {
   "cell_type": "code",
   "execution_count": 22,
   "metadata": {},
   "outputs": [
    {
     "data": {
      "text/plain": [
       "bs4.element.Tag"
      ]
     },
     "execution_count": 22,
     "metadata": {},
     "output_type": "execute_result"
    }
   ],
   "source": [
    "type(soup2.main)"
   ]
  },
  {
   "cell_type": "code",
   "execution_count": 23,
   "metadata": {},
   "outputs": [
    {
     "data": {
      "text/plain": [
       "<h2>Read your way to insight!</h2>"
      ]
     },
     "execution_count": 23,
     "metadata": {},
     "output_type": "execute_result"
    }
   ],
   "source": [
    "soup2.main.h2"
   ]
  },
  {
   "cell_type": "code",
   "execution_count": 24,
   "metadata": {},
   "outputs": [
    {
     "data": {
      "text/plain": [
       "[<article class=\"blog_post\">\n",
       " <h3>Hello World</h3>\n",
       " <p>This is the first post!</p>\n",
       " </article>,\n",
       " <article class=\"blog_post\">\n",
       " <h3>HTML Is Awesome</h3>\n",
       " <p>It's the language and structure for the web!</p>\n",
       " </article>,\n",
       " <article class=\"blog_post\">\n",
       " <h3>CSS Is Totally Rad</h3>\n",
       " <p>CSS Selectors are super powerful</p>\n",
       " </article>]"
      ]
     },
     "execution_count": 24,
     "metadata": {},
     "output_type": "execute_result"
    }
   ],
   "source": [
    "soup2.main.select(\"article\")"
   ]
  },
  {
   "cell_type": "code",
   "execution_count": 25,
   "metadata": {},
   "outputs": [],
   "source": [
    "# Inshorts example"
   ]
  },
  {
   "cell_type": "code",
   "execution_count": 26,
   "metadata": {},
   "outputs": [],
   "source": [
    "url = 'https://inshorts.com/en/read/business'\n",
    "headers = {'User-Agent': 'Codeup Data Science'} # Some websites don't accept the python-requests default user-agent\n",
    "response = get(url, headers=headers)\n",
    "soup = BeautifulSoup(response.content, 'html.parser')"
   ]
  },
  {
   "cell_type": "code",
   "execution_count": 27,
   "metadata": {},
   "outputs": [],
   "source": [
    "articles = soup.select(\".news-card\")"
   ]
  },
  {
   "cell_type": "code",
   "execution_count": 28,
   "metadata": {},
   "outputs": [
    {
     "data": {
      "text/plain": [
       "25"
      ]
     },
     "execution_count": 28,
     "metadata": {},
     "output_type": "execute_result"
    }
   ],
   "source": [
    "len(articles)"
   ]
  },
  {
   "cell_type": "code",
   "execution_count": 29,
   "metadata": {},
   "outputs": [],
   "source": [
    "article = articles[0]"
   ]
  },
  {
   "cell_type": "code",
   "execution_count": 30,
   "metadata": {},
   "outputs": [
    {
     "data": {
      "text/plain": [
       "'https://inshorts.com/en/news/uber-reduces-its-india-workforce-by-25-fires-600-employees-1590464141274'"
      ]
     },
     "execution_count": 30,
     "metadata": {},
     "output_type": "execute_result"
    }
   ],
   "source": [
    "# first span in this div with class news-card\n",
    "# With element tags (in soup), we can treat them like dictionaries\n",
    "article.span[\"itemid\"]"
   ]
  },
  {
   "cell_type": "code",
   "execution_count": 31,
   "metadata": {},
   "outputs": [
    {
     "data": {
      "text/plain": [
       "'Uber India fires 600 employees reducing 25% of its workforce'"
      ]
     },
     "execution_count": 31,
     "metadata": {},
     "output_type": "execute_result"
    }
   ],
   "source": [
    "# a[target=\"_blank\"] \n",
    "title = article.select(\"span[itemprop='headline']\")\n",
    "title = title[0].text\n",
    "title"
   ]
  },
  {
   "cell_type": "code",
   "execution_count": 32,
   "metadata": {},
   "outputs": [
    {
     "data": {
      "text/plain": [
       "\"Uber is firing 600 employees in India, or 25% of its workforce in the country, amid the coronavirus pandemic. The layoffs, which are a part of Uber's global restructuring plan that eliminated 6,700 jobs, affect teams across customer and driver support, business development, legal, finance, policy and marketing verticals. Affected staff will be paid 10-12 weeks of salary, Uber said.\""
      ]
     },
     "execution_count": 32,
     "metadata": {},
     "output_type": "execute_result"
    }
   ],
   "source": [
    "body = article.select(\"div[itemprop='articleBody']\")\n",
    "body = body[0].text\n",
    "body"
   ]
  },
  {
   "cell_type": "code",
   "execution_count": null,
   "metadata": {},
   "outputs": [],
   "source": []
  }
 ],
 "metadata": {
  "kernelspec": {
   "display_name": "Python 3",
   "language": "python",
   "name": "python3"
  },
  "language_info": {
   "codemirror_mode": {
    "name": "ipython",
    "version": 3
   },
   "file_extension": ".py",
   "mimetype": "text/x-python",
   "name": "python",
   "nbconvert_exporter": "python",
   "pygments_lexer": "ipython3",
   "version": "3.7.3"
  }
 },
 "nbformat": 4,
 "nbformat_minor": 4
}
